{
 "cells": [
  {
   "cell_type": "code",
   "execution_count": 1,
   "id": "b8654540-674f-4991-aecc-2bb1f7267d8f",
   "metadata": {},
   "outputs": [],
   "source": [
    "from bs4 import BeautifulSoup\n",
    "import requests"
   ]
  },
  {
   "cell_type": "code",
   "execution_count": 9,
   "id": "29383524-0072-4bd6-94e0-498edad9c764",
   "metadata": {},
   "outputs": [],
   "source": [
    "url = \"https://results.eci.gov.in\"\n",
    "response = requests.get(url)\n",
    "soup = BeautifulSoup(response.content, \"html.parser\")"
   ]
  },
  {
   "cell_type": "code",
   "execution_count": 13,
   "id": "f63a9823-5f6f-445f-8ea1-49b2ab5b24dd",
   "metadata": {},
   "outputs": [
    {
     "name": "stdout",
     "output_type": "stream",
     "text": [
      "<!DOCTYPE html>\n",
      "\n",
      "<html lang=\"en\">\n",
      "<head>\n",
      "<!-- Required meta tags -->\n",
      "<meta charset=\"utf-8\"/>\n",
      "<meta content=\"width=device-width, initial-scale=1\" name=\"viewport\"/>\n",
      "<!-- Bootstrap CSS -->\n",
      "<link href=\"css/bootstrap.min.css\" rel=\"stylesheet\"/>\n",
      "<link href=\"css/custom.css\" rel=\"stylesheet\"/>\n",
      "<link href=\"css/responsive.css\" rel=\"stylesheet\"/>\n",
      "<link href=\"css/font.css\" rel=\"stylesheet\"/>\n",
      "<link href=\"img/icons/favicon.ico\" rel=\"shortcut icon\" type=\"image/x-icon\"/>\n",
      "<title>Election Commission of India</title>\n",
      "<style type=\"text/css\">\n",
      "</style>\n",
      "<script>!function(a){var e=\"https://s.go-mpulse.net/boomerang/\",t=\"addEventListener\";if(\"False\"==\"True\")a.BOOMR_config=a.BOOMR_config||{},a.BOOMR_config.PageParams=a.BOOMR_config.PageParams||{},a.BOOMR_config.PageParams.pci=!0,e=\"https://s2.go-mpulse.net/boomerang/\";if(window.BOOMR_API_key=\"C8JDA-BHWH8-9MQ5M-HKZCP-GH7SB\",function(){function n(e){a.BOOMR_onload=e&&e.timeStamp||(new Date).getTime()}if(!a.BOOMR||!a.BOOMR.version&&!a.BOOMR.snippetExecuted){a.BOOMR=a.BOOMR||{},a.BOOMR.snippetExecuted=!0;var i,_,o,r=document.createElement(\"iframe\");if(a[t])a[t](\"load\",n,!1);else if(a.attachEvent)a.attachEvent(\"onload\",n);r.src=\"javascript:void(0)\",r.title=\"\",r.role=\"presentation\",(r.frameElement||r).style.cssText=\"width:0;height:0;border:0;display:none;\",o=document.getElementsByTagName(\"script\")[0],o.parentNode.insertBefore(r,o);try{_=r.contentWindow.document}catch(O){i=document.domain,r.src=\"javascript:var d=document.open();d.domain='\"+i+\"';void(0);\",_=r.contentWindow.document}_.open()._l=function(){var a=this.createElement(\"script\");if(i)this.domain=i;a.id=\"boomr-if-as\",a.src=e+\"C8JDA-BHWH8-9MQ5M-HKZCP-GH7SB\",BOOMR_lstart=(new Date).getTime(),this.body.appendChild(a)},_.write(\"<bo\"+'dy onload=\"document._l();\">'),_.close()}}(),\"\".length>0)if(a&&\"performance\"in a&&a.performance&&\"function\"==typeof a.performance.setResourceTimingBufferSize)a.performance.setResourceTimingBufferSize();!function(){if(BOOMR=a.BOOMR||{},BOOMR.plugins=BOOMR.plugins||{},!BOOMR.plugins.AK){var e=\"\"==\"true\"?1:0,t=\"\",n=\"ges5lgjrftc4czuaewra-f-efeca39a6-clientnsv4-s.akamaihd.net\",i=\"false\"==\"true\"?2:1,_={\"ak.v\":\"37\",\"ak.cp\":\"1109753\",\"ak.ai\":parseInt(\"537121\",10),\"ak.ol\":\"0\",\"ak.cr\":11,\"ak.ipv\":4,\"ak.proto\":\"http/1.1\",\"ak.rid\":\"15caf2d4\",\"ak.r\":33522,\"ak.a2\":e,\"ak.m\":\"b\",\"ak.n\":\"ff\",\"ak.bpcip\":\"49.37.213.0\",\"ak.cport\":61283,\"ak.gh\":\"49.44.197.189\",\"ak.quicv\":\"\",\"ak.tlsv\":\"tls1.3\",\"ak.0rtt\":\"\",\"ak.csrc\":\"-\",\"ak.acc\":\"reno\",\"ak.t\":\"1719674274\",\"ak.ak\":\"hOBiQwZUYzCg5VSAfCLimQ==ZZ53HMBVrxHXDaF8mP4gJ86aicfV8sneLIGhS11SLKW2Bj1KBy6c22KKvGpom3xPsSxWpWdlHKdT0VQeuC7B+Gycban9uuCJXjx4z18TRm/TNz/ZJ4x0RfvrhW8f3DpEQ+JmQegfu/yAMKdo3h0KNhnb2oXqGNoGZ8fh0u7eB2A9lMYPP4jU/35Wz3kxLRjVnXyNqyAUcuKFurRV5gO/bfaDL7/qBxOY/3zuzbpYmyYE+BzQGiaOj9c67m+lk5lsYEKDojHVl8l3wuB0mdCgF/HM+tm25FLcOo5RPljEhz/7ONcYCK7rOEcfj/3MrXoelOGBwxAJhf0g1bqpsADz7XRYtRmOugDLTqZ7f05nnBY4I7IUZO7DqYDrWwxdwh/+iDuv7JfLWI9yK8f2+a3zF8DSrpGSM0xHDfWe/3cuabI=\",\"ak.pv\":\"86\",\"ak.dpoabenc\":\"\",\"ak.tf\":i};if(\"\"!==t)_[\"ak.ruds\"]=t;var o={i:!1,av:function(e){var t=\"http.initiator\";if(e&&(!e[t]||\"spa_hard\"===e[t]))_[\"ak.feo\"]=void 0!==a.aFeoApplied?1:0,BOOMR.addVar(_)},rv:function(){var a=[\"ak.bpcip\",\"ak.cport\",\"ak.cr\",\"ak.csrc\",\"ak.gh\",\"ak.ipv\",\"ak.m\",\"ak.n\",\"ak.ol\",\"ak.proto\",\"ak.quicv\",\"ak.tlsv\",\"ak.0rtt\",\"ak.r\",\"ak.acc\",\"ak.t\",\"ak.tf\"];BOOMR.removeVar(a)}};BOOMR.plugins.AK={akVars:_,akDNSPreFetchDomain:n,init:function(){if(!o.i){var a=BOOMR.subscribe;a(\"before_beacon\",o.av,null,null),a(\"onbeacon\",o.rv,null,null),o.i=!0}return this},is_complete:function(){return!0}}}}()}(window);</script></head>\n",
      "<body>\n",
      "<header class=\"header\">\n",
      "<div class=\"logo-search\">\n",
      "<div class=\"mob-btn\"><img alt=\"\" src=\"img/icons/menu.png\"/></div>\n",
      "<div class=\"logo\"><a href=\"index.htm\"><img alt=\"\" src=\"img/eci-logo.png\"/></a></div>\n",
      "<div class=\"lft-menu\">\n",
      "</div>\n",
      "</div>\n",
      "</header>\n",
      "<div class=\"dis-info\">\n",
      "<div class=\"container-fluid\">\n",
      "<div class=\"d-flex align-items-center justify-content-center\">\n",
      "<h6 class=\"mb-0 mx-2\">Disclaimer:</h6>\n",
      "<p class=\"mb-0\"> ECI is displaying the information as being filled in the system by the Returning Officers from\n",
      "          their respective Counting Centres.The final data for each AC/PC will be shared in Form-20.</p>\n",
      "</div>\n",
      "</div>\n",
      "</div><!-- End of dis-info Div -->\n",
      "<main class=\"inner-content\">\n",
      "<div class=\"page-title\">\n",
      "<h1>General Election to Parliamentary/Assembly Constituencies: Trends &amp; Results June-2024</h1>\n",
      "</div>\n",
      "<div class=\"container-fluid\">\n",
      "<section class=\"state-wrap\">\n",
      "<div class=\"container-fluid container-sm\">\n",
      "<div class=\"row justify-content-center\">\n",
      "<div class=\"col-md-12 col-12\">\n",
      "<div class=\"state-item blue-bg pc-wrap\">\n",
      "<a href=\"https://results.eci.gov.in/PcResultGenJune2024/index.htm\">\n",
      "<h2>Parliamentary\n",
      "                    Constituencies</h2>\n",
      "<h1>543</h1>\n",
      "</a>\n",
      "</div>\n",
      "</div>\n",
      "<div class=\"col-md-4 col-12\">\n",
      "<div class=\"state-item olive-bg\">\n",
      "<a href=\"https://results.eci.gov.in/AcResultGenJune2024/index.htm\" target=\"_blank\">\n",
      "<h2>Andhra Pradesh</h2>\n",
      "<h1>175</h1>\n",
      "<h5>Assembly Constituencies</h5>\n",
      "</a>\n",
      "</div>\n",
      "</div>\n",
      "<div class=\"col-md-4 col-12\">\n",
      "<div class=\"state-item pine-bg\">\n",
      "<a href=\"https://results.eci.gov.in/AcResultGenJune2024/index.htm\" target=\"_blank\">\n",
      "<h2>Odisha</h2>\n",
      "<h1>147</h1>\n",
      "<h5>Assembly Constituencies</h5>\n",
      "</a>\n",
      "</div>\n",
      "</div>\n",
      "<div class=\"col-md-4 col-12\">\n",
      "<div class=\"state-item gry-bg\">\n",
      "<a href=\"https://results.eci.gov.in/AcResultByeJune2024/\" target=\"_blank\">\n",
      "<h2>Bye Elections</h2>\n",
      "<h1>25</h1>\n",
      "<h5>Assembly Constituencies</h5>\n",
      "</a>\n",
      "</div>\n",
      "</div>\n",
      "<div class=\"col-md-6 col-12\"><a class=\"btn btn-big btn-primary\" href=\"https://results.eci.gov.in/AcResultGen2ndJune2024/index.htm\" target=\"_blank\">Arunachal Pradesh</a>\n",
      "</div>\n",
      "<div class=\"col-md-6 col-12\"><a class=\"btn btn-big btn-primary\" href=\"https://results.eci.gov.in/AcResultGen2ndJune2024/index.htm\" target=\"_blank\">Sikkim</a></div>\n",
      "</div>\n",
      "</div>\n",
      "</section>\n",
      "</div><!-- End of container-fluid Div -->\n",
      "</main>\n",
      "<footer class=\"footer\">\n",
      "<div class=\"foot-info\">\n",
      "<div class=\"container-fluid\">\n",
      "<div class=\"row\">\n",
      "<div class=\"col-md-6 col-12\">\n",
      "<h6 class=\"mb-1\">Download Voter helpline app to see results on mobile</h6>\n",
      "</div>\n",
      "<div class=\"col-md-6 col-12\">\n",
      "<ul class=\"d-flex align-items-center items-end\">\n",
      "<li><a href=\"https://play.google.com/store/apps/details?id=com.eci.citizen\" target=\"_blank\"><img alt=\"\" src=\"img/icons/android.png\"/></a></li>\n",
      "<li><a href=\"https://apps.apple.com/in/app/voter-helpline/id1456535004\" target=\"_blank\"><img alt=\"\" src=\"img/icons/apple.png\"/></a></li>\n",
      "</ul>\n",
      "</div>\n",
      "</div>\n",
      "</div>\n",
      "</div>\n",
      "</footer>\n",
      "<!-- Optional JavaScript; choose one of the two! -->\n",
      "<script src=\"js/jquery-3.6.0.min.js\" type=\"text/javascript\"></script>\n",
      "<!-- Option 1: Bootstrap Bundle with Popper -->\n",
      "<script src=\"js/bootstrap.bundle.min.js\" type=\"text/javascript\"></script>\n",
      "<!-- Option 3: Custom jQuery Lab -->\n",
      "<script src=\"js/custom-jQuery.js\" type=\"text/javascript\"></script>\n",
      "</body>\n",
      "</html>\n"
     ]
    }
   ],
   "source": [
    "print(soup)"
   ]
  },
  {
   "cell_type": "code",
   "execution_count": 48,
   "id": "03bed3c6-7d9b-48ed-b97d-841770ee3355",
   "metadata": {},
   "outputs": [
    {
     "name": "stdout",
     "output_type": "stream",
     "text": [
      "None\n"
     ]
    }
   ],
   "source": [
    "print(table)"
   ]
  },
  {
   "cell_type": "code",
   "execution_count": 19,
   "id": "51c186d3-b230-4929-aa0c-8ae2d2a9f8d3",
   "metadata": {},
   "outputs": [
    {
     "data": {
      "text/plain": [
       "[]"
      ]
     },
     "execution_count": 19,
     "metadata": {},
     "output_type": "execute_result"
    }
   ],
   "source": [
    "soup.find_all('table')\n"
   ]
  },
  {
   "cell_type": "code",
   "execution_count": 44,
   "id": "66a12285-dc20-459a-bdc7-ce2920cd4cc2",
   "metadata": {},
   "outputs": [],
   "source": [
    "soup.find('table', class_ = \"table table-striped table-bordered\")\n"
   ]
  },
  {
   "cell_type": "code",
   "execution_count": 46,
   "id": "1dff26ed-e902-4719-a2fe-f568491538b5",
   "metadata": {},
   "outputs": [
    {
     "name": "stdout",
     "output_type": "stream",
     "text": [
      "None\n"
     ]
    }
   ],
   "source": [
    "print(table)"
   ]
  },
  {
   "cell_type": "code",
   "execution_count": 50,
   "id": "7a734d84-73ff-4e1f-bb5e-61948fbe497f",
   "metadata": {},
   "outputs": [
    {
     "data": {
      "text/plain": [
       "[]"
      ]
     },
     "execution_count": 50,
     "metadata": {},
     "output_type": "execute_result"
    }
   ],
   "source": [
    "soup.find_all('th')"
   ]
  },
  {
   "cell_type": "code",
   "execution_count": 54,
   "id": "227e21c5-c8f0-43c7-af54-cf3945908651",
   "metadata": {},
   "outputs": [],
   "source": [
    "Parliament_Constituency = soup.find_all('th')"
   ]
  },
  {
   "cell_type": "code",
   "execution_count": 56,
   "id": "524bf1bf-f637-49bb-a239-7ded550e000d",
   "metadata": {},
   "outputs": [
    {
     "data": {
      "text/plain": [
       "[]"
      ]
     },
     "execution_count": 56,
     "metadata": {},
     "output_type": "execute_result"
    }
   ],
   "source": [
    "Parliament_Constituency"
   ]
  },
  {
   "cell_type": "code",
   "execution_count": 60,
   "id": "f7662d6e-6be0-44ee-aece-68009c3f51d3",
   "metadata": {},
   "outputs": [
    {
     "name": "stdout",
     "output_type": "stream",
     "text": [
      "[]\n"
     ]
    }
   ],
   "source": [
    "Parliament_Constituency = [title.txt for title in Parliament_Constituency]\n",
    "\n",
    "print(Parliament_Constituency)"
   ]
  },
  {
   "cell_type": "code",
   "execution_count": 62,
   "id": "e9c94137-cde8-460f-8b7a-6e00ad4403dc",
   "metadata": {},
   "outputs": [
    {
     "name": "stdout",
     "output_type": "stream",
     "text": [
      "[]\n"
     ]
    }
   ],
   "source": [
    "print(Parliament_Constituency)"
   ]
  },
  {
   "cell_type": "code",
   "execution_count": 66,
   "id": "cc8660ad-f3a2-4a86-8f41-4764c3ea9bb6",
   "metadata": {},
   "outputs": [
    {
     "name": "stdout",
     "output_type": "stream",
     "text": [
      "None\n"
     ]
    }
   ],
   "source": [
    "print(table)"
   ]
  },
  {
   "cell_type": "code",
   "execution_count": 68,
   "id": "1997874e-0419-4592-b405-e32827b090c5",
   "metadata": {},
   "outputs": [],
   "source": [
    "Parliament_Constituency = soup.find_all('td')"
   ]
  },
  {
   "cell_type": "code",
   "execution_count": 70,
   "id": "4785f957-af59-4e0c-9503-4a39636d6cb6",
   "metadata": {},
   "outputs": [
    {
     "name": "stdout",
     "output_type": "stream",
     "text": [
      "[]\n"
     ]
    }
   ],
   "source": [
    "print(Parliament_Constituency)"
   ]
  },
  {
   "cell_type": "code",
   "execution_count": 72,
   "id": "a6d5822f-885a-4b7c-9a8e-184103cb47a3",
   "metadata": {},
   "outputs": [],
   "source": [
    "import pandas as pd"
   ]
  },
  {
   "cell_type": "code",
   "execution_count": 78,
   "id": "097fa83f-96fe-4dfa-92e3-3d9121375c1f",
   "metadata": {},
   "outputs": [
    {
     "ename": "AttributeError",
     "evalue": "module 'pandas' has no attribute 'Data'",
     "output_type": "error",
     "traceback": [
      "\u001b[1;31m---------------------------------------------------------------------------\u001b[0m",
      "\u001b[1;31mAttributeError\u001b[0m                            Traceback (most recent call last)",
      "Cell \u001b[1;32mIn[78], line 1\u001b[0m\n\u001b[1;32m----> 1\u001b[0m df \u001b[38;5;241m=\u001b[39m pd\u001b[38;5;241m.\u001b[39mData\u001b[38;5;241m.\u001b[39mFrame(columns \u001b[38;5;241m=\u001b[39m Parliament_Constituency)\n\u001b[0;32m      2\u001b[0m df\n",
      "\u001b[1;31mAttributeError\u001b[0m: module 'pandas' has no attribute 'Data'"
     ]
    }
   ],
   "source": [
    "df = pd.Data.Frame(columns = Parliament_Constituency)\n",
    "df"
   ]
  },
  {
   "cell_type": "code",
   "execution_count": 80,
   "id": "6706ebc2-9666-4793-872c-22806aff4552",
   "metadata": {},
   "outputs": [
    {
     "ename": "AttributeError",
     "evalue": "'NoneType' object has no attribute 'find_all'",
     "output_type": "error",
     "traceback": [
      "\u001b[1;31m---------------------------------------------------------------------------\u001b[0m",
      "\u001b[1;31mAttributeError\u001b[0m                            Traceback (most recent call last)",
      "Cell \u001b[1;32mIn[80], line 1\u001b[0m\n\u001b[1;32m----> 1\u001b[0m table\u001b[38;5;241m.\u001b[39mfind_all(\u001b[38;5;124m'\u001b[39m\u001b[38;5;124mtr\u001b[39m\u001b[38;5;124m'\u001b[39m)\n",
      "\u001b[1;31mAttributeError\u001b[0m: 'NoneType' object has no attribute 'find_all'"
     ]
    }
   ],
   "source": [
    "table.find_all('tr')\n"
   ]
  },
  {
   "cell_type": "code",
   "execution_count": 90,
   "id": "f9433219-d28f-453b-a130-748dd0c465f5",
   "metadata": {},
   "outputs": [],
   "source": [
    "import requests \n",
    "from bs4 import BeautifulSoup\n",
    "\n",
    "req = requests.get(\"https://results.eci.gov.in\")\n",
    "\n",
    "soup = BeautifulSoup(req.content, \"html.parser\")\n",
    "\n"
   ]
  },
  {
   "cell_type": "code",
   "execution_count": 92,
   "id": "83bfca82-2633-4dbb-ad85-1491f40bcf87",
   "metadata": {},
   "outputs": [
    {
     "name": "stdout",
     "output_type": "stream",
     "text": [
      "<!DOCTYPE html>\n",
      "\n",
      "<html lang=\"en\">\n",
      "<head>\n",
      "<!-- Required meta tags -->\n",
      "<meta charset=\"utf-8\"/>\n",
      "<meta content=\"width=device-width, initial-scale=1\" name=\"viewport\"/>\n",
      "<!-- Bootstrap CSS -->\n",
      "<link href=\"css/bootstrap.min.css\" rel=\"stylesheet\"/>\n",
      "<link href=\"css/custom.css\" rel=\"stylesheet\"/>\n",
      "<link href=\"css/responsive.css\" rel=\"stylesheet\"/>\n",
      "<link href=\"css/font.css\" rel=\"stylesheet\"/>\n",
      "<link href=\"img/icons/favicon.ico\" rel=\"shortcut icon\" type=\"image/x-icon\"/>\n",
      "<title>Election Commission of India</title>\n",
      "<style type=\"text/css\">\n",
      "</style>\n",
      "<script>!function(a){var e=\"https://s.go-mpulse.net/boomerang/\",t=\"addEventListener\";if(\"False\"==\"True\")a.BOOMR_config=a.BOOMR_config||{},a.BOOMR_config.PageParams=a.BOOMR_config.PageParams||{},a.BOOMR_config.PageParams.pci=!0,e=\"https://s2.go-mpulse.net/boomerang/\";if(window.BOOMR_API_key=\"C8JDA-BHWH8-9MQ5M-HKZCP-GH7SB\",function(){function n(e){a.BOOMR_onload=e&&e.timeStamp||(new Date).getTime()}if(!a.BOOMR||!a.BOOMR.version&&!a.BOOMR.snippetExecuted){a.BOOMR=a.BOOMR||{},a.BOOMR.snippetExecuted=!0;var i,_,o,r=document.createElement(\"iframe\");if(a[t])a[t](\"load\",n,!1);else if(a.attachEvent)a.attachEvent(\"onload\",n);r.src=\"javascript:void(0)\",r.title=\"\",r.role=\"presentation\",(r.frameElement||r).style.cssText=\"width:0;height:0;border:0;display:none;\",o=document.getElementsByTagName(\"script\")[0],o.parentNode.insertBefore(r,o);try{_=r.contentWindow.document}catch(O){i=document.domain,r.src=\"javascript:var d=document.open();d.domain='\"+i+\"';void(0);\",_=r.contentWindow.document}_.open()._l=function(){var a=this.createElement(\"script\");if(i)this.domain=i;a.id=\"boomr-if-as\",a.src=e+\"C8JDA-BHWH8-9MQ5M-HKZCP-GH7SB\",BOOMR_lstart=(new Date).getTime(),this.body.appendChild(a)},_.write(\"<bo\"+'dy onload=\"document._l();\">'),_.close()}}(),\"\".length>0)if(a&&\"performance\"in a&&a.performance&&\"function\"==typeof a.performance.setResourceTimingBufferSize)a.performance.setResourceTimingBufferSize();!function(){if(BOOMR=a.BOOMR||{},BOOMR.plugins=BOOMR.plugins||{},!BOOMR.plugins.AK){var e=\"\"==\"true\"?1:0,t=\"\",n=\"ges5lgixfqf6czuagmlq-f-dbe7266ad-clientnsv4-s.akamaihd.net\",i=\"false\"==\"true\"?2:1,_={\"ak.v\":\"37\",\"ak.cp\":\"1109753\",\"ak.ai\":parseInt(\"537121\",10),\"ak.ol\":\"0\",\"ak.cr\":6,\"ak.ipv\":4,\"ak.proto\":\"http/1.1\",\"ak.rid\":\"67fcdbc\",\"ak.r\":37659,\"ak.a2\":e,\"ak.m\":\"b\",\"ak.n\":\"ff\",\"ak.bpcip\":\"49.37.213.0\",\"ak.cport\":63668,\"ak.gh\":\"23.44.11.221\",\"ak.quicv\":\"\",\"ak.tlsv\":\"tls1.3\",\"ak.0rtt\":\"\",\"ak.csrc\":\"-\",\"ak.acc\":\"reno\",\"ak.t\":\"1719677719\",\"ak.ak\":\"hOBiQwZUYzCg5VSAfCLimQ==grYjK75cpG0Ge1tfe/UXmxM+1gvmQnLrEESgLJ7JlleuFsINo0X0P36uqJYM48dw76VdISHaQwZdYd4ju8MNVfm8WfFjyPtzEYPmTzBg8miIfssB2feozDdYgp5cquwEW98XKCbvBqMS7m54oTecmpHi66WjKHlcMIn81mbESmBt2JZLfLLAwCoGeMs8bXvNHncOw15KqOJFwyOuZrzshsjbgfZws/IKa2e4HCSkg/utC8DHsKLFBkbgisjEjC0EG5zpWTNn9SROavmXL2yExv75SIWXdYgzt4XBAjy1wrWN3GvOEKX6GJ5vi7d5yAKf4tZ7Yo9J2/lTkDI/OCv8yGMYvjNZC8u11sjlpdUbXfCyh1x2LHA2J2T8dr2QVnD0yJvEtU7K9z95+crMJhHqjNzrJQSHQ9zZq1dTEpd5Mow=\",\"ak.pv\":\"86\",\"ak.dpoabenc\":\"\",\"ak.tf\":i};if(\"\"!==t)_[\"ak.ruds\"]=t;var o={i:!1,av:function(e){var t=\"http.initiator\";if(e&&(!e[t]||\"spa_hard\"===e[t]))_[\"ak.feo\"]=void 0!==a.aFeoApplied?1:0,BOOMR.addVar(_)},rv:function(){var a=[\"ak.bpcip\",\"ak.cport\",\"ak.cr\",\"ak.csrc\",\"ak.gh\",\"ak.ipv\",\"ak.m\",\"ak.n\",\"ak.ol\",\"ak.proto\",\"ak.quicv\",\"ak.tlsv\",\"ak.0rtt\",\"ak.r\",\"ak.acc\",\"ak.t\",\"ak.tf\"];BOOMR.removeVar(a)}};BOOMR.plugins.AK={akVars:_,akDNSPreFetchDomain:n,init:function(){if(!o.i){var a=BOOMR.subscribe;a(\"before_beacon\",o.av,null,null),a(\"onbeacon\",o.rv,null,null),o.i=!0}return this},is_complete:function(){return!0}}}}()}(window);</script></head>\n",
      "<body>\n",
      "<header class=\"header\">\n",
      "<div class=\"logo-search\">\n",
      "<div class=\"mob-btn\"><img alt=\"\" src=\"img/icons/menu.png\"/></div>\n",
      "<div class=\"logo\"><a href=\"index.htm\"><img alt=\"\" src=\"img/eci-logo.png\"/></a></div>\n",
      "<div class=\"lft-menu\">\n",
      "</div>\n",
      "</div>\n",
      "</header>\n",
      "<div class=\"dis-info\">\n",
      "<div class=\"container-fluid\">\n",
      "<div class=\"d-flex align-items-center justify-content-center\">\n",
      "<h6 class=\"mb-0 mx-2\">Disclaimer:</h6>\n",
      "<p class=\"mb-0\"> ECI is displaying the information as being filled in the system by the Returning Officers from\n",
      "          their respective Counting Centres.The final data for each AC/PC will be shared in Form-20.</p>\n",
      "</div>\n",
      "</div>\n",
      "</div><!-- End of dis-info Div -->\n",
      "<main class=\"inner-content\">\n",
      "<div class=\"page-title\">\n",
      "<h1>General Election to Parliamentary/Assembly Constituencies: Trends &amp; Results June-2024</h1>\n",
      "</div>\n",
      "<div class=\"container-fluid\">\n",
      "<section class=\"state-wrap\">\n",
      "<div class=\"container-fluid container-sm\">\n",
      "<div class=\"row justify-content-center\">\n",
      "<div class=\"col-md-12 col-12\">\n",
      "<div class=\"state-item blue-bg pc-wrap\">\n",
      "<a href=\"https://results.eci.gov.in/PcResultGenJune2024/index.htm\">\n",
      "<h2>Parliamentary\n",
      "                    Constituencies</h2>\n",
      "<h1>543</h1>\n",
      "</a>\n",
      "</div>\n",
      "</div>\n",
      "<div class=\"col-md-4 col-12\">\n",
      "<div class=\"state-item olive-bg\">\n",
      "<a href=\"https://results.eci.gov.in/AcResultGenJune2024/index.htm\" target=\"_blank\">\n",
      "<h2>Andhra Pradesh</h2>\n",
      "<h1>175</h1>\n",
      "<h5>Assembly Constituencies</h5>\n",
      "</a>\n",
      "</div>\n",
      "</div>\n",
      "<div class=\"col-md-4 col-12\">\n",
      "<div class=\"state-item pine-bg\">\n",
      "<a href=\"https://results.eci.gov.in/AcResultGenJune2024/index.htm\" target=\"_blank\">\n",
      "<h2>Odisha</h2>\n",
      "<h1>147</h1>\n",
      "<h5>Assembly Constituencies</h5>\n",
      "</a>\n",
      "</div>\n",
      "</div>\n",
      "<div class=\"col-md-4 col-12\">\n",
      "<div class=\"state-item gry-bg\">\n",
      "<a href=\"https://results.eci.gov.in/AcResultByeJune2024/\" target=\"_blank\">\n",
      "<h2>Bye Elections</h2>\n",
      "<h1>25</h1>\n",
      "<h5>Assembly Constituencies</h5>\n",
      "</a>\n",
      "</div>\n",
      "</div>\n",
      "<div class=\"col-md-6 col-12\"><a class=\"btn btn-big btn-primary\" href=\"https://results.eci.gov.in/AcResultGen2ndJune2024/index.htm\" target=\"_blank\">Arunachal Pradesh</a>\n",
      "</div>\n",
      "<div class=\"col-md-6 col-12\"><a class=\"btn btn-big btn-primary\" href=\"https://results.eci.gov.in/AcResultGen2ndJune2024/index.htm\" target=\"_blank\">Sikkim</a></div>\n",
      "</div>\n",
      "</div>\n",
      "</section>\n",
      "</div><!-- End of container-fluid Div -->\n",
      "</main>\n",
      "<footer class=\"footer\">\n",
      "<div class=\"foot-info\">\n",
      "<div class=\"container-fluid\">\n",
      "<div class=\"row\">\n",
      "<div class=\"col-md-6 col-12\">\n",
      "<h6 class=\"mb-1\">Download Voter helpline app to see results on mobile</h6>\n",
      "</div>\n",
      "<div class=\"col-md-6 col-12\">\n",
      "<ul class=\"d-flex align-items-center items-end\">\n",
      "<li><a href=\"https://play.google.com/store/apps/details?id=com.eci.citizen\" target=\"_blank\"><img alt=\"\" src=\"img/icons/android.png\"/></a></li>\n",
      "<li><a href=\"https://apps.apple.com/in/app/voter-helpline/id1456535004\" target=\"_blank\"><img alt=\"\" src=\"img/icons/apple.png\"/></a></li>\n",
      "</ul>\n",
      "</div>\n",
      "</div>\n",
      "</div>\n",
      "</div>\n",
      "</footer>\n",
      "<!-- Optional JavaScript; choose one of the two! -->\n",
      "<script src=\"js/jquery-3.6.0.min.js\" type=\"text/javascript\"></script>\n",
      "<!-- Option 1: Bootstrap Bundle with Popper -->\n",
      "<script src=\"js/bootstrap.bundle.min.js\" type=\"text/javascript\"></script>\n",
      "<!-- Option 3: Custom jQuery Lab -->\n",
      "<script src=\"js/custom-jQuery.js\" type=\"text/javascript\"></script>\n",
      "</body>\n",
      "</html>\n"
     ]
    }
   ],
   "source": [
    "print(soup)"
   ]
  },
  {
   "cell_type": "code",
   "execution_count": 98,
   "id": "ef2e2dea-42a5-40e2-94bc-b39df83f9026",
   "metadata": {},
   "outputs": [
    {
     "name": "stdout",
     "output_type": "stream",
     "text": [
      "Election Commission of India\n"
     ]
    }
   ],
   "source": [
    "import requests \n",
    "from bs4 import BeautifulSoup\n",
    "\n",
    "req = requests.get(\"https://results.eci.gov.in\")\n",
    "\n",
    "soup = BeautifulSoup(req.content, \"html.parser\")\n",
    "\n",
    "res = soup.title\n",
    "\n",
    "print(res.get_text())"
   ]
  },
  {
   "cell_type": "code",
   "execution_count": 104,
   "id": "c9b1a80c-2913-4991-adb6-ed78c24a6379",
   "metadata": {},
   "outputs": [
    {
     "ename": "NameError",
     "evalue": "name 'Election_Commission_of_India' is not defined",
     "output_type": "error",
     "traceback": [
      "\u001b[1;31m---------------------------------------------------------------------------\u001b[0m",
      "\u001b[1;31mNameError\u001b[0m                                 Traceback (most recent call last)",
      "Cell \u001b[1;32mIn[104], line 1\u001b[0m\n\u001b[1;32m----> 1\u001b[0m Election_Commission_of_India \u001b[38;5;241m=\u001b[39m [title\u001b[38;5;241m.\u001b[39mtxt \u001b[38;5;28;01mfor\u001b[39;00m title \u001b[38;5;129;01min\u001b[39;00m Election_Commission_of_India]\n\u001b[0;32m      3\u001b[0m \u001b[38;5;28mprint\u001b[39m(Election_Commission_of_India)\n",
      "\u001b[1;31mNameError\u001b[0m: name 'Election_Commission_of_India' is not defined"
     ]
    }
   ],
   "source": [
    "Election_Commission_of_India = [title.txt for title in Election_Commission_of_India]\n",
    "\n",
    "print(Election_Commission_of_India)"
   ]
  },
  {
   "cell_type": "code",
   "execution_count": 106,
   "id": "7b06977f-c67f-4e44-866b-25ee24b9e5d3",
   "metadata": {},
   "outputs": [
    {
     "ename": "AttributeError",
     "evalue": "'NoneType' object has no attribute 'find_all'",
     "output_type": "error",
     "traceback": [
      "\u001b[1;31m---------------------------------------------------------------------------\u001b[0m",
      "\u001b[1;31mAttributeError\u001b[0m                            Traceback (most recent call last)",
      "Cell \u001b[1;32mIn[106], line 2\u001b[0m\n\u001b[0;32m      1\u001b[0m table \u001b[38;5;241m=\u001b[39m soup\u001b[38;5;241m.\u001b[39mfind(\u001b[38;5;124m\"\u001b[39m\u001b[38;5;124mtable\u001b[39m\u001b[38;5;124m\"\u001b[39m, {\u001b[38;5;124m\"\u001b[39m\u001b[38;5;124mid\u001b[39m\u001b[38;5;124m\"\u001b[39m: \u001b[38;5;124m\"\u001b[39m\u001b[38;5;124mdatatable\u001b[39m\u001b[38;5;124m\"\u001b[39m})\n\u001b[1;32m----> 2\u001b[0m rows \u001b[38;5;241m=\u001b[39m table\u001b[38;5;241m.\u001b[39mfind_all(\u001b[38;5;124m\"\u001b[39m\u001b[38;5;124mtr\u001b[39m\u001b[38;5;124m\"\u001b[39m)\n",
      "\u001b[1;31mAttributeError\u001b[0m: 'NoneType' object has no attribute 'find_all'"
     ]
    }
   ],
   "source": [
    "table = soup.find(\"table\", {\"id\": \"datatable\"})\n",
    "rows = table.find_all(\"tr\")"
   ]
  },
  {
   "cell_type": "code",
   "execution_count": 108,
   "id": "0de54ecf-642b-42ee-8f39-7fce89258fa4",
   "metadata": {},
   "outputs": [
    {
     "name": "stdout",
     "output_type": "stream",
     "text": [
      "Requirement already satisfied: selenium in d:\\softwares\\anaconda folder\\lib\\site-packages (4.22.0)\n",
      "Requirement already satisfied: urllib3<3,>=1.26 in d:\\softwares\\anaconda folder\\lib\\site-packages (from urllib3[socks]<3,>=1.26->selenium) (2.2.2)\n",
      "Requirement already satisfied: trio~=0.17 in d:\\softwares\\anaconda folder\\lib\\site-packages (from selenium) (0.25.1)\n",
      "Requirement already satisfied: trio-websocket~=0.9 in d:\\softwares\\anaconda folder\\lib\\site-packages (from selenium) (0.11.1)\n",
      "Requirement already satisfied: certifi>=2021.10.8 in d:\\softwares\\anaconda folder\\lib\\site-packages (from selenium) (2024.6.2)\n",
      "Requirement already satisfied: typing_extensions>=4.9.0 in d:\\softwares\\anaconda folder\\lib\\site-packages (from selenium) (4.11.0)\n",
      "Requirement already satisfied: websocket-client>=1.8.0 in d:\\softwares\\anaconda folder\\lib\\site-packages (from selenium) (1.8.0)\n",
      "Requirement already satisfied: attrs>=23.2.0 in d:\\softwares\\anaconda folder\\lib\\site-packages (from trio~=0.17->selenium) (23.2.0)\n",
      "Requirement already satisfied: sortedcontainers in d:\\softwares\\anaconda folder\\lib\\site-packages (from trio~=0.17->selenium) (2.4.0)\n",
      "Requirement already satisfied: idna in d:\\softwares\\anaconda folder\\lib\\site-packages (from trio~=0.17->selenium) (3.7)\n",
      "Requirement already satisfied: outcome in d:\\softwares\\anaconda folder\\lib\\site-packages (from trio~=0.17->selenium) (1.3.0.post0)\n",
      "Requirement already satisfied: sniffio>=1.3.0 in d:\\softwares\\anaconda folder\\lib\\site-packages (from trio~=0.17->selenium) (1.3.0)\n",
      "Requirement already satisfied: cffi>=1.14 in d:\\softwares\\anaconda folder\\lib\\site-packages (from trio~=0.17->selenium) (1.16.0)\n",
      "Requirement already satisfied: wsproto>=0.14 in d:\\softwares\\anaconda folder\\lib\\site-packages (from trio-websocket~=0.9->selenium) (1.2.0)\n",
      "Requirement already satisfied: pysocks!=1.5.7,<2.0,>=1.5.6 in d:\\softwares\\anaconda folder\\lib\\site-packages (from urllib3[socks]<3,>=1.26->selenium) (1.7.1)\n",
      "Requirement already satisfied: pycparser in d:\\softwares\\anaconda folder\\lib\\site-packages (from cffi>=1.14->trio~=0.17->selenium) (2.21)\n",
      "Requirement already satisfied: h11<1,>=0.9.0 in d:\\softwares\\anaconda folder\\lib\\site-packages (from wsproto>=0.14->trio-websocket~=0.9->selenium) (0.14.0)\n",
      "Note: you may need to restart the kernel to use updated packages.\n"
     ]
    }
   ],
   "source": [
    "pip install selenium\n"
   ]
  },
  {
   "cell_type": "code",
   "execution_count": 110,
   "id": "8076a1f2-8138-4da1-99d2-e45300c3429b",
   "metadata": {},
   "outputs": [
    {
     "ename": "TypeError",
     "evalue": "WebDriver.__init__() got an unexpected keyword argument 'executable_path'",
     "output_type": "error",
     "traceback": [
      "\u001b[1;31m---------------------------------------------------------------------------\u001b[0m",
      "\u001b[1;31mTypeError\u001b[0m                                 Traceback (most recent call last)",
      "Cell \u001b[1;32mIn[110], line 8\u001b[0m\n\u001b[0;32m      5\u001b[0m \u001b[38;5;28;01mfrom\u001b[39;00m \u001b[38;5;21;01mbs4\u001b[39;00m \u001b[38;5;28;01mimport\u001b[39;00m BeautifulSoup\n\u001b[0;32m      7\u001b[0m \u001b[38;5;66;03m# Set up Selenium WebDriver\u001b[39;00m\n\u001b[1;32m----> 8\u001b[0m driver \u001b[38;5;241m=\u001b[39m webdriver\u001b[38;5;241m.\u001b[39mChrome(executable_path\u001b[38;5;241m=\u001b[39m\u001b[38;5;124m'\u001b[39m\u001b[38;5;124m/path/to/chromedriver\u001b[39m\u001b[38;5;124m'\u001b[39m)\n\u001b[0;32m      9\u001b[0m driver\u001b[38;5;241m.\u001b[39mget(\u001b[38;5;124m\"\u001b[39m\u001b[38;5;124mhttps://results.eci.gov.in\u001b[39m\u001b[38;5;124m\"\u001b[39m)\n\u001b[0;32m     11\u001b[0m \u001b[38;5;66;03m# Wait for the page to load\u001b[39;00m\n",
      "\u001b[1;31mTypeError\u001b[0m: WebDriver.__init__() got an unexpected keyword argument 'executable_path'"
     ]
    }
   ],
   "source": [
    "from selenium import webdriver\n",
    "from selenium.webdriver.common.by import By\n",
    "from selenium.webdriver.common.keys import Keys\n",
    "import time\n",
    "from bs4 import BeautifulSoup\n",
    "\n",
    "# Set up Selenium WebDriver\n",
    "driver = webdriver.Chrome(executable_path='/path/to/chromedriver')\n",
    "driver.get(\"https://results.eci.gov.in\")\n",
    "\n",
    "# Wait for the page to load\n",
    "time.sleep(5)\n",
    "\n",
    "# Navigate to the parliamentary results\n",
    "parliament_link = driver.find_element(By.LINK_TEXT, \"Parliamentary Constituencies\")\n",
    "parliament_link.click()\n",
    "\n",
    "# Wait for the new page to load\n",
    "time.sleep(5)\n",
    "\n",
    "# Get the page source and parse it with BeautifulSoup\n",
    "soup = BeautifulSoup(driver.page_source, \"html.parser\")\n",
    "\n",
    "# Now find the table with the results\n",
    "table = soup.find(\"table\", {\"id\": \"datatable\"})\n",
    "if table:\n",
    "    rows = table.find_all(\"tr\")\n",
    "    \n",
    "    data = []\n",
    "    for row in rows:\n",
    "        cols = row.find_all(\"td\")\n",
    "        cols = [ele.text.strip() for ele in cols]\n",
    "        data.append([ele for ele in cols if ele])\n",
    "else:\n",
    "    print(\"Table with id 'datatable' not found.\")\n",
    "\n",
    "# Close the driver\n",
    "driver.quit()\n",
    "\n",
    "# Output the scraped data\n",
    "for row in data:\n",
    "    print(row)\n"
   ]
  },
  {
   "cell_type": "code",
   "execution_count": 112,
   "id": "e58a3b70-847f-4601-80ec-590e66aec48e",
   "metadata": {},
   "outputs": [
    {
     "name": "stdout",
     "output_type": "stream",
     "text": [
      "Requirement already satisfied: selenium in d:\\softwares\\anaconda folder\\lib\\site-packages (4.22.0)\n",
      "Requirement already satisfied: beautifulsoup4 in d:\\softwares\\anaconda folder\\lib\\site-packages (4.12.3)\n",
      "Requirement already satisfied: urllib3<3,>=1.26 in d:\\softwares\\anaconda folder\\lib\\site-packages (from urllib3[socks]<3,>=1.26->selenium) (2.2.2)\n",
      "Requirement already satisfied: trio~=0.17 in d:\\softwares\\anaconda folder\\lib\\site-packages (from selenium) (0.25.1)\n",
      "Requirement already satisfied: trio-websocket~=0.9 in d:\\softwares\\anaconda folder\\lib\\site-packages (from selenium) (0.11.1)\n",
      "Requirement already satisfied: certifi>=2021.10.8 in d:\\softwares\\anaconda folder\\lib\\site-packages (from selenium) (2024.6.2)\n",
      "Requirement already satisfied: typing_extensions>=4.9.0 in d:\\softwares\\anaconda folder\\lib\\site-packages (from selenium) (4.11.0)\n",
      "Requirement already satisfied: websocket-client>=1.8.0 in d:\\softwares\\anaconda folder\\lib\\site-packages (from selenium) (1.8.0)\n",
      "Requirement already satisfied: soupsieve>1.2 in d:\\softwares\\anaconda folder\\lib\\site-packages (from beautifulsoup4) (2.5)\n",
      "Requirement already satisfied: attrs>=23.2.0 in d:\\softwares\\anaconda folder\\lib\\site-packages (from trio~=0.17->selenium) (23.2.0)\n",
      "Requirement already satisfied: sortedcontainers in d:\\softwares\\anaconda folder\\lib\\site-packages (from trio~=0.17->selenium) (2.4.0)\n",
      "Requirement already satisfied: idna in d:\\softwares\\anaconda folder\\lib\\site-packages (from trio~=0.17->selenium) (3.7)\n",
      "Requirement already satisfied: outcome in d:\\softwares\\anaconda folder\\lib\\site-packages (from trio~=0.17->selenium) (1.3.0.post0)\n",
      "Requirement already satisfied: sniffio>=1.3.0 in d:\\softwares\\anaconda folder\\lib\\site-packages (from trio~=0.17->selenium) (1.3.0)\n",
      "Requirement already satisfied: cffi>=1.14 in d:\\softwares\\anaconda folder\\lib\\site-packages (from trio~=0.17->selenium) (1.16.0)\n",
      "Requirement already satisfied: wsproto>=0.14 in d:\\softwares\\anaconda folder\\lib\\site-packages (from trio-websocket~=0.9->selenium) (1.2.0)\n",
      "Requirement already satisfied: pysocks!=1.5.7,<2.0,>=1.5.6 in d:\\softwares\\anaconda folder\\lib\\site-packages (from urllib3[socks]<3,>=1.26->selenium) (1.7.1)\n",
      "Requirement already satisfied: pycparser in d:\\softwares\\anaconda folder\\lib\\site-packages (from cffi>=1.14->trio~=0.17->selenium) (2.21)\n",
      "Requirement already satisfied: h11<1,>=0.9.0 in d:\\softwares\\anaconda folder\\lib\\site-packages (from wsproto>=0.14->trio-websocket~=0.9->selenium) (0.14.0)\n",
      "Note: you may need to restart the kernel to use updated packages.\n"
     ]
    }
   ],
   "source": [
    "pip install selenium beautifulsoup4\n"
   ]
  },
  {
   "cell_type": "code",
   "execution_count": null,
   "id": "6964099e-7334-4687-9120-f8f7f277786c",
   "metadata": {},
   "outputs": [],
   "source": []
  },
  {
   "cell_type": "code",
   "execution_count": 116,
   "id": "5565bd73-b397-423a-8637-6735714f1f65",
   "metadata": {},
   "outputs": [
    {
     "ename": "AttributeError",
     "evalue": "'NoneType' object has no attribute 'find_all'",
     "output_type": "error",
     "traceback": [
      "\u001b[1;31m---------------------------------------------------------------------------\u001b[0m",
      "\u001b[1;31mAttributeError\u001b[0m                            Traceback (most recent call last)",
      "Cell \u001b[1;32mIn[116], line 17\u001b[0m\n\u001b[0;32m     15\u001b[0m \u001b[38;5;66;03m# Step 3: Extract data from the table\u001b[39;00m\n\u001b[0;32m     16\u001b[0m data \u001b[38;5;241m=\u001b[39m []\n\u001b[1;32m---> 17\u001b[0m headers \u001b[38;5;241m=\u001b[39m [th\u001b[38;5;241m.\u001b[39mtext\u001b[38;5;241m.\u001b[39mstrip() \u001b[38;5;28;01mfor\u001b[39;00m th \u001b[38;5;129;01min\u001b[39;00m table\u001b[38;5;241m.\u001b[39mfind_all(\u001b[38;5;124m\"\u001b[39m\u001b[38;5;124mth\u001b[39m\u001b[38;5;124m\"\u001b[39m)]\n\u001b[0;32m     18\u001b[0m data\u001b[38;5;241m.\u001b[39mappend(headers)\n\u001b[0;32m     20\u001b[0m \u001b[38;5;28;01mfor\u001b[39;00m row \u001b[38;5;129;01min\u001b[39;00m table\u001b[38;5;241m.\u001b[39mfind_all(\u001b[38;5;124m\"\u001b[39m\u001b[38;5;124mtr\u001b[39m\u001b[38;5;124m\"\u001b[39m)[\u001b[38;5;241m1\u001b[39m:]:\n",
      "\u001b[1;31mAttributeError\u001b[0m: 'NoneType' object has no attribute 'find_all'"
     ]
    }
   ],
   "source": [
    "import requests\n",
    "from bs4 import BeautifulSoup\n",
    "import pandas as pd\n",
    "import matplotlib.pyplot as plt\n",
    "import seaborn as sns\n",
    "\n",
    "# Step 1: Scrape data from the website\n",
    "url = \"https://results.eci.gov.in/pcresults.htm\"\n",
    "response = requests.get(url)\n",
    "soup = BeautifulSoup(response.content, \"html.parser\")\n",
    "\n",
    "# Step 2: Find the table containing the election results\n",
    "table = soup.find(\"table\", {\"id\": \"datatable\"})\n",
    "\n",
    "# Step 3: Extract data from the table\n",
    "data = []\n",
    "headers = [th.text.strip() for th in table.find_all(\"th\")]\n",
    "data.append(headers)\n",
    "\n",
    "for row in table.find_all(\"tr\")[1:]:\n",
    "    cols = row.find_all(\"td\")\n",
    "    cols = [ele.text.strip() for ele in cols]\n",
    "    data.append(cols)\n",
    "\n",
    "# Step 4: Save the data to a CSV file\n",
    "df = pd.DataFrame(data[1:], columns=data[0])\n",
    "df.to_csv(\"election_results.csv\", index=False)\n",
    "\n",
    "# Step 5: Perform Analysis\n",
    "# Total votes won by each party\n",
    "party_votes = df.groupby(\"Party\")[\"Votes\"].sum().reset_index()\n",
    "party_votes = party_votes.sort_values(by=\"Votes\", ascending=False)\n",
    "party_votes.to_csv(\"party_votes.csv\", index=False)\n",
    "\n",
    "# Comparison with previous election (assuming previous election data is available)\n",
    "df_previous = pd.read_csv(\"previous_election_results.csv\")\n",
    "comparison_df = df.merge(df_previous, on=\"Constituency\", suffixes=(\"_current\", \"_previous\"))\n",
    "comparison_df[\"Vote Change\"] = comparison_df[\"Votes_current\"] - comparison_df[\"Votes_previous\"]\n",
    "comparison_df.to_csv(\"comparison_results.csv\", index=False)\n",
    "\n",
    "# Step 6: Create Visualizations\n",
    "plt.figure(figsize=(12, 8))\n",
    "sns.barplot(data=party_votes, x=\"Party\", y=\"Votes\")\n",
    "plt.xticks(rotation=90)\n",
    "plt.title(\"Total Votes Won by Each Party\")\n",
    "plt.savefig(\"party_votes.png\")\n",
    "\n",
    "# Example visualization for vote change\n",
    "plt.figure(figsize=(12, 8))\n",
    "sns.barplot(data=comparison_df, x=\"Constituency\", y=\"Vote Change\")\n",
    "plt.xticks(rotation=90)\n",
    "plt.title(\"Vote Change from Previous Election\")\n",
    "plt.savefig(\"vote_change.png\")\n",
    "\n",
    "# Step 7: Document Insights\n",
    "with open(\"INSIGHTS.md\", \"w\") as f:\n",
    "    f.write(\"# Election Analysis\\n\\n\")\n",
    "    f.write(\"## Insight 1: Total Votes Won by Each Party\\n\")\n",
    "    f.write(\"- **Explanation**: This insight shows the total votes won by each party in the current election.\\n\")\n",
    "    f.write(\"- **Dataset**: `election_results.csv`\\n\")\n",
    "    f.write(\"- **Methods**: Grouped the votes by party and summed them up.\\n\")\n",
    "    f.write(\"- **Key Findings**: Party X won the highest number of votes.\\n\")\n",
    "    f.write(\"- **Visualization**: ![Total Votes Won by Each Party](party_votes.png)\\n\\n\")\n",
    "\n",
    "    f.write(\"## Insight 2: Vote Change from Previous Election\\n\")\n",
    "    f.write(\"- **Explanation**: This insight compares the votes received by each party in the current and previous elections.\\n\")\n",
    "    f.write(\"- **Dataset**: `comparison_results.csv`\\n\")\n",
    "    f.write(\"- **Methods**: Merged current and previous election data and calculated vote changes.\\n\")\n",
    "    f.write(\"- **Key Findings**: Party Y gained significant votes compared to the previous election.\\n\")\n",
    "    f.write(\"- **Visualization**: ![Vote Change](vote_change.png)\\n\\n\")\n",
    "\n",
    "# Step 8: Create a GitHub Repository\n",
    "# Note: This is an example, you need to manually create the repository and upload the files\n",
    "# Use `git` commands to add, commit, and push the files to your GitHub repository\n"
   ]
  },
  {
   "cell_type": "code",
   "execution_count": null,
   "id": "c38999cd-46e9-4583-a1ba-d849014105e5",
   "metadata": {},
   "outputs": [],
   "source": []
  },
  {
   "cell_type": "code",
   "execution_count": 118,
   "id": "e70a50c1-b6ca-4c10-ab95-59efc3f87150",
   "metadata": {},
   "outputs": [
    {
     "name": "stdout",
     "output_type": "stream",
     "text": [
      "Table not found. Here is the HTML:\n",
      "<!DOCTYPE HTML PUBLIC \"-//IETF//DTD HTML 2.0//EN\">\n",
      "<html>\n",
      " <head>\n",
      "  <title>\n",
      "   404 Not Found\n",
      "  </title>\n",
      " </head>\n",
      " <body>\n",
      "  <h1>\n",
      "   Not Found\n",
      "  </h1>\n",
      "  <p>\n",
      "   The requested URL was not found on this server.\n",
      "  </p>\n",
      " </body>\n",
      "</html>\n",
      "\n"
     ]
    }
   ],
   "source": [
    "import requests\n",
    "from bs4 import BeautifulSoup\n",
    "import pandas as pd\n",
    "\n",
    "# Step 1: Scrape data from the website\n",
    "url = \"https://results.eci.gov.in/pcresults.htm\"  # Example URL for parliamentary results\n",
    "response = requests.get(url)\n",
    "soup = BeautifulSoup(response.content, \"html.parser\")\n",
    "\n",
    "# Step 2: Find the table containing the election results\n",
    "table = soup.find(\"table\", {\"id\": \"datatable\"})\n",
    "\n",
    "if table is None:\n",
    "    print(\"Table not found. Here is the HTML:\")\n",
    "    print(soup.prettify())\n",
    "else:\n",
    "    # Step 3: Extract data from the table\n",
    "    data = []\n",
    "    headers = [th.text.strip() for th in table.find_all(\"th\")]\n",
    "    data.append(headers)\n",
    "\n",
    "    for row in table.find_all(\"tr\")[1:]:\n",
    "        cols = row.find_all(\"td\")\n",
    "        cols = [ele.text.strip() for ele in cols]\n",
    "        data.append(cols)\n",
    "\n",
    "    # Step 4: Save the data to a CSV file\n",
    "    df = pd.DataFrame(data[1:], columns=data[0])\n",
    "    df.to_csv(\"election_results.csv\", index=False)\n",
    "    print(\"Data saved to election_results.csv\")\n"
   ]
  },
  {
   "cell_type": "code",
   "execution_count": 120,
   "id": "809af784-377f-4334-9804-91d69c58773d",
   "metadata": {},
   "outputs": [
    {
     "ename": "AttributeError",
     "evalue": "'str' object has no attribute 'capabilities'",
     "output_type": "error",
     "traceback": [
      "\u001b[1;31m---------------------------------------------------------------------------\u001b[0m",
      "\u001b[1;31mAttributeError\u001b[0m                            Traceback (most recent call last)",
      "Cell \u001b[1;32mIn[120], line 8\u001b[0m\n\u001b[0;32m      6\u001b[0m \u001b[38;5;66;03m# Set up the WebDriver\u001b[39;00m\n\u001b[0;32m      7\u001b[0m driver_path \u001b[38;5;241m=\u001b[39m \u001b[38;5;124m'\u001b[39m\u001b[38;5;124mpath/to/chromedriver\u001b[39m\u001b[38;5;124m'\u001b[39m  \u001b[38;5;66;03m# Change to the path where your chromedriver is located\u001b[39;00m\n\u001b[1;32m----> 8\u001b[0m driver \u001b[38;5;241m=\u001b[39m webdriver\u001b[38;5;241m.\u001b[39mChrome(driver_path)\n\u001b[0;32m     10\u001b[0m \u001b[38;5;66;03m# Open the URL\u001b[39;00m\n\u001b[0;32m     11\u001b[0m url \u001b[38;5;241m=\u001b[39m \u001b[38;5;124m\"\u001b[39m\u001b[38;5;124mhttps://results.eci.gov.in/pcresults.htm\u001b[39m\u001b[38;5;124m\"\u001b[39m  \u001b[38;5;66;03m# Example URL for parliamentary results\u001b[39;00m\n",
      "File \u001b[1;32mD:\\Softwares\\Anaconda folder\\Lib\\site-packages\\selenium\\webdriver\\chrome\\webdriver.py:45\u001b[0m, in \u001b[0;36mWebDriver.__init__\u001b[1;34m(self, options, service, keep_alive)\u001b[0m\n\u001b[0;32m     42\u001b[0m service \u001b[38;5;241m=\u001b[39m service \u001b[38;5;28;01mif\u001b[39;00m service \u001b[38;5;28;01melse\u001b[39;00m Service()\n\u001b[0;32m     43\u001b[0m options \u001b[38;5;241m=\u001b[39m options \u001b[38;5;28;01mif\u001b[39;00m options \u001b[38;5;28;01melse\u001b[39;00m Options()\n\u001b[1;32m---> 45\u001b[0m \u001b[38;5;28msuper\u001b[39m()\u001b[38;5;241m.\u001b[39m\u001b[38;5;21m__init__\u001b[39m(\n\u001b[0;32m     46\u001b[0m     browser_name\u001b[38;5;241m=\u001b[39mDesiredCapabilities\u001b[38;5;241m.\u001b[39mCHROME[\u001b[38;5;124m\"\u001b[39m\u001b[38;5;124mbrowserName\u001b[39m\u001b[38;5;124m\"\u001b[39m],\n\u001b[0;32m     47\u001b[0m     vendor_prefix\u001b[38;5;241m=\u001b[39m\u001b[38;5;124m\"\u001b[39m\u001b[38;5;124mgoog\u001b[39m\u001b[38;5;124m\"\u001b[39m,\n\u001b[0;32m     48\u001b[0m     options\u001b[38;5;241m=\u001b[39moptions,\n\u001b[0;32m     49\u001b[0m     service\u001b[38;5;241m=\u001b[39mservice,\n\u001b[0;32m     50\u001b[0m     keep_alive\u001b[38;5;241m=\u001b[39mkeep_alive,\n\u001b[0;32m     51\u001b[0m )\n",
      "File \u001b[1;32mD:\\Softwares\\Anaconda folder\\Lib\\site-packages\\selenium\\webdriver\\chromium\\webdriver.py:50\u001b[0m, in \u001b[0;36mChromiumDriver.__init__\u001b[1;34m(self, browser_name, vendor_prefix, options, service, keep_alive)\u001b[0m\n\u001b[0;32m     47\u001b[0m \u001b[38;5;28mself\u001b[39m\u001b[38;5;241m.\u001b[39mservice \u001b[38;5;241m=\u001b[39m service\n\u001b[0;32m     49\u001b[0m finder \u001b[38;5;241m=\u001b[39m DriverFinder(\u001b[38;5;28mself\u001b[39m\u001b[38;5;241m.\u001b[39mservice, options)\n\u001b[1;32m---> 50\u001b[0m \u001b[38;5;28;01mif\u001b[39;00m finder\u001b[38;5;241m.\u001b[39mget_browser_path():\n\u001b[0;32m     51\u001b[0m     options\u001b[38;5;241m.\u001b[39mbinary_location \u001b[38;5;241m=\u001b[39m finder\u001b[38;5;241m.\u001b[39mget_browser_path()\n\u001b[0;32m     52\u001b[0m     options\u001b[38;5;241m.\u001b[39mbrowser_version \u001b[38;5;241m=\u001b[39m \u001b[38;5;28;01mNone\u001b[39;00m\n",
      "File \u001b[1;32mD:\\Softwares\\Anaconda folder\\Lib\\site-packages\\selenium\\webdriver\\common\\driver_finder.py:47\u001b[0m, in \u001b[0;36mDriverFinder.get_browser_path\u001b[1;34m(self)\u001b[0m\n\u001b[0;32m     46\u001b[0m \u001b[38;5;28;01mdef\u001b[39;00m \u001b[38;5;21mget_browser_path\u001b[39m(\u001b[38;5;28mself\u001b[39m) \u001b[38;5;241m-\u001b[39m\u001b[38;5;241m>\u001b[39m \u001b[38;5;28mstr\u001b[39m:\n\u001b[1;32m---> 47\u001b[0m     \u001b[38;5;28;01mreturn\u001b[39;00m \u001b[38;5;28mself\u001b[39m\u001b[38;5;241m.\u001b[39m_binary_paths()[\u001b[38;5;124m\"\u001b[39m\u001b[38;5;124mbrowser_path\u001b[39m\u001b[38;5;124m\"\u001b[39m]\n",
      "File \u001b[1;32mD:\\Softwares\\Anaconda folder\\Lib\\site-packages\\selenium\\webdriver\\common\\driver_finder.py:56\u001b[0m, in \u001b[0;36mDriverFinder._binary_paths\u001b[1;34m(self)\u001b[0m\n\u001b[0;32m     53\u001b[0m \u001b[38;5;28;01mif\u001b[39;00m \u001b[38;5;28mself\u001b[39m\u001b[38;5;241m.\u001b[39m_paths[\u001b[38;5;124m\"\u001b[39m\u001b[38;5;124mdriver_path\u001b[39m\u001b[38;5;124m\"\u001b[39m]:\n\u001b[0;32m     54\u001b[0m     \u001b[38;5;28;01mreturn\u001b[39;00m \u001b[38;5;28mself\u001b[39m\u001b[38;5;241m.\u001b[39m_paths\n\u001b[1;32m---> 56\u001b[0m browser \u001b[38;5;241m=\u001b[39m \u001b[38;5;28mself\u001b[39m\u001b[38;5;241m.\u001b[39m_options\u001b[38;5;241m.\u001b[39mcapabilities[\u001b[38;5;124m\"\u001b[39m\u001b[38;5;124mbrowserName\u001b[39m\u001b[38;5;124m\"\u001b[39m]\n\u001b[0;32m     57\u001b[0m \u001b[38;5;28;01mtry\u001b[39;00m:\n\u001b[0;32m     58\u001b[0m     path \u001b[38;5;241m=\u001b[39m \u001b[38;5;28mself\u001b[39m\u001b[38;5;241m.\u001b[39m_service\u001b[38;5;241m.\u001b[39mpath\n",
      "\u001b[1;31mAttributeError\u001b[0m: 'str' object has no attribute 'capabilities'"
     ]
    }
   ],
   "source": [
    "from selenium import webdriver\n",
    "from selenium.webdriver.common.by import By\n",
    "import pandas as pd\n",
    "import time\n",
    "\n",
    "# Set up the WebDriver\n",
    "driver_path = 'path/to/chromedriver'  # Change to the path where your chromedriver is located\n",
    "driver = webdriver.Chrome(driver_path)\n",
    "\n",
    "# Open the URL\n",
    "url = \"https://results.eci.gov.in/pcresults.htm\"  # Example URL for parliamentary results\n",
    "driver.get(url)\n",
    "\n",
    "# Wait for the page to load (you might need to adjust the sleep time)\n",
    "time.sleep(10)\n",
    "\n",
    "# Find the table\n",
    "table = driver.find_element(By.ID, \"datatable\")\n",
    "\n",
    "# Extract data\n",
    "data = []\n",
    "headers = [th.text.strip() for th in table.find_elements(By.TAG_NAME, \"th\")]\n",
    "data.append(headers)\n",
    "\n",
    "rows = table.find_elements(By.TAG_NAME, \"tr\")[1:]  # Skip header row\n",
    "for row in rows:\n",
    "    cols = row.find_elements(By.TAG_NAME, \"td\")\n",
    "    cols = [ele.text.strip() for ele in cols]\n",
    "    data.append(cols)\n",
    "\n",
    "# Save the data to a CSV file\n",
    "df = pd.DataFrame(data[1:], columns=data[0])\n",
    "df.to_csv(\"election_results.csv\", index=False)\n",
    "\n",
    "# Close the driver\n",
    "driver.quit()\n",
    "\n",
    "print(\"Data saved to election_results.csv\")\n"
   ]
  },
  {
   "cell_type": "code",
   "execution_count": 122,
   "id": "a55d6367-fe5b-403d-9c1c-4e553c1fb151",
   "metadata": {},
   "outputs": [
    {
     "ename": "SyntaxError",
     "evalue": "invalid syntax (4174414626.py, line 1)",
     "output_type": "error",
     "traceback": [
      "\u001b[1;36m  Cell \u001b[1;32mIn[122], line 1\u001b[1;36m\u001b[0m\n\u001b[1;33m    pip install selenium\u001b[0m\n\u001b[1;37m        ^\u001b[0m\n\u001b[1;31mSyntaxError\u001b[0m\u001b[1;31m:\u001b[0m invalid syntax\n"
     ]
    }
   ],
   "source": [
    "pip install selenium\n",
    "\n"
   ]
  },
  {
   "cell_type": "code",
   "execution_count": null,
   "id": "6ca290c5-9991-4854-a902-9e232b0923ae",
   "metadata": {},
   "outputs": [],
   "source": []
  }
 ],
 "metadata": {
  "kernelspec": {
   "display_name": "Python 3 (ipykernel)",
   "language": "python",
   "name": "python3"
  },
  "language_info": {
   "codemirror_mode": {
    "name": "ipython",
    "version": 3
   },
   "file_extension": ".py",
   "mimetype": "text/x-python",
   "name": "python",
   "nbconvert_exporter": "python",
   "pygments_lexer": "ipython3",
   "version": "3.12.4"
  }
 },
 "nbformat": 4,
 "nbformat_minor": 5
}
